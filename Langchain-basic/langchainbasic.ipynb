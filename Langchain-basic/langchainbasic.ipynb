{
 "cells": [
  {
   "cell_type": "code",
   "execution_count": 1,
   "id": "a3aa98e5",
   "metadata": {},
   "outputs": [],
   "source": [
    "import langchain"
   ]
  },
  {
   "cell_type": "code",
   "execution_count": 2,
   "id": "16c15005",
   "metadata": {},
   "outputs": [
    {
     "data": {
      "text/plain": [
       "True"
      ]
     },
     "execution_count": 2,
     "metadata": {},
     "output_type": "execute_result"
    }
   ],
   "source": [
    "import os\n",
    "from dotenv import load_dotenv\n",
    "load_dotenv()"
   ]
  },
  {
   "cell_type": "code",
   "execution_count": 3,
   "id": "6ec3547e",
   "metadata": {},
   "outputs": [],
   "source": [
    "os.environ[\"GROQ_API_KEY\"]=os.getenv(\"GROQ_API_KEY\")"
   ]
  },
  {
   "cell_type": "markdown",
   "id": "6bcee064",
   "metadata": {},
   "source": [
    "### Exapmle1: simple LLM call with streaming"
   ]
  },
  {
   "cell_type": "code",
   "execution_count": 4,
   "id": "77ecb010",
   "metadata": {},
   "outputs": [],
   "source": [
    "from langchain.chat_models import init_chat_model\n",
    "from langchain_core.messages import HumanMessage, SystemMessage"
   ]
  },
  {
   "cell_type": "code",
   "execution_count": 11,
   "id": "02076484",
   "metadata": {},
   "outputs": [
    {
     "data": {
      "text/plain": [
       "ChatGroq(client=<groq.resources.chat.completions.Completions object at 0x000001B32297C2D0>, async_client=<groq.resources.chat.completions.AsyncCompletions object at 0x000001B32297CCD0>, model_name='llama3-8b-8192', model_kwargs={}, groq_api_key=SecretStr('**********'))"
      ]
     },
     "execution_count": 11,
     "metadata": {},
     "output_type": "execute_result"
    }
   ],
   "source": [
    "model = init_chat_model(\"groq:llama3-8b-8192\")\n",
    "model"
   ]
  },
  {
   "cell_type": "code",
   "execution_count": 23,
   "id": "5dfecd33",
   "metadata": {},
   "outputs": [],
   "source": [
    "## create a messaage\n",
    "messages = [\n",
    "    SystemMessage(content=\"You are a helpful assistant.\"),\n",
    "    HumanMessage(content=\"What is AI?\"),\n",
    "]"
   ]
  },
  {
   "cell_type": "code",
   "execution_count": 24,
   "id": "67ef3138",
   "metadata": {},
   "outputs": [
    {
     "data": {
      "text/plain": [
       "AIMessage(content=\"AI, or Artificial Intelligence, refers to the development of computer systems that can perform tasks that would typically require human intelligence, such as:\\n\\n1. Learning: AI systems can learn from data, recognize patterns, and make decisions based on that learning.\\n2. Problem-solving: AI systems can solve complex problems, make predictions, and optimize processes.\\n3. Perception: AI systems can interpret and understand data from sensors, such as images, speech, and text.\\n4. Reasoning: AI systems can reason and make logical deductions, and even make decisions that are based on incomplete or uncertain information.\\n\\nThere are many types of AI, including:\\n\\n1. Narrow or Weak AI: This type of AI is designed to perform a specific task, such as playing chess or recognizing faces.\\n2. General or Strong AI: This type of AI is capable of performing any intellectual task that a human can, such as understanding language, recognizing patterns, and making decisions.\\n3. Superintelligent AI: This type of AI is hypothetical, but if it were possible, it would be capable of surpassing human intelligence in all areas.\\n\\nAI is used in many areas, including:\\n\\n1. Virtual assistants, like Siri and Alexa\\n2. Self-driving cars\\n3. Medical diagnosis and treatment\\n4. Customer service chatbots\\n5. Language translation\\n6. Image recognition and classification\\n7. Robotics and automation\\n\\nOverall, AI has the potential to revolutionize many industries and aspects of our lives, but it's also important to consider the potential risks and challenges associated with the development and deployment of AI systems.\", additional_kwargs={}, response_metadata={'token_usage': {'completion_tokens': 319, 'prompt_tokens': 25, 'total_tokens': 344, 'completion_time': 0.283478256, 'prompt_time': 0.011571037, 'queue_time': 0.474846042, 'total_time': 0.295049293}, 'model_name': 'llama3-8b-8192', 'system_fingerprint': 'fp_0fb809dba3', 'service_tier': 'on_demand', 'finish_reason': 'stop', 'logprobs': None}, id='run--f8e4beb5-4464-48f7-9dae-3bfa2ed2d09b-0', usage_metadata={'input_tokens': 25, 'output_tokens': 319, 'total_tokens': 344})"
      ]
     },
     "execution_count": 24,
     "metadata": {},
     "output_type": "execute_result"
    }
   ],
   "source": [
    "# invike the model\n",
    "response = model.invoke(messages)\n",
    "response"
   ]
  },
  {
   "cell_type": "code",
   "execution_count": 25,
   "id": "5d84fb82",
   "metadata": {},
   "outputs": [
    {
     "name": "stdout",
     "output_type": "stream",
     "text": [
      "AI, or Artificial Intelligence, refers to the development of computer systems that can perform tasks that would typically require human intelligence, such as:\n",
      "\n",
      "1. Learning: AI systems can learn from data, recognize patterns, and make decisions based on that learning.\n",
      "2. Problem-solving: AI systems can solve complex problems, make predictions, and optimize processes.\n",
      "3. Perception: AI systems can interpret and understand data from sensors, such as images, speech, and text.\n",
      "4. Reasoning: AI systems can reason and make logical deductions, and even make decisions that are based on incomplete or uncertain information.\n",
      "\n",
      "There are many types of AI, including:\n",
      "\n",
      "1. Narrow or Weak AI: This type of AI is designed to perform a specific task, such as playing chess or recognizing faces.\n",
      "2. General or Strong AI: This type of AI is capable of performing any intellectual task that a human can, such as understanding language, recognizing patterns, and making decisions.\n",
      "3. Superintelligent AI: This type of AI is hypothetical, but if it were possible, it would be capable of surpassing human intelligence in all areas.\n",
      "\n",
      "AI is used in many areas, including:\n",
      "\n",
      "1. Virtual assistants, like Siri and Alexa\n",
      "2. Self-driving cars\n",
      "3. Medical diagnosis and treatment\n",
      "4. Customer service chatbots\n",
      "5. Language translation\n",
      "6. Image recognition and classification\n",
      "7. Robotics and automation\n",
      "\n",
      "Overall, AI has the potential to revolutionize many industries and aspects of our lives, but it's also important to consider the potential risks and challenges associated with the development and deployment of AI systems.\n"
     ]
    }
   ],
   "source": [
    "print(response.content)"
   ]
  },
  {
   "cell_type": "code",
   "execution_count": 26,
   "id": "75b87e40",
   "metadata": {},
   "outputs": [
    {
     "name": "stdout",
     "output_type": "stream",
     "text": [
      "AI, or Artificial Intelligence, refers to the development of computer systems that can perform tasks that would typically require human intelligence, such as learning, problem-solving, decision-making, and perception.\n",
      "\n",
      "AI systems use algorithms and data to analyze and process information, allowing them to make predictions, classify objects, and even interact with humans. There are many different types of AI, including:\n",
      "\n",
      "1. Narrow or Weak AI: This type of AI is designed to perform a specific task, such as playing chess or recognizing faces.\n",
      "2. General or Strong AI: This type of AI is designed to perform any intellectual task that a human can, such as understanding language, making decisions, and solving complex problems.\n",
      "3. Superintelligence: This type of AI is far more intelligent than the greatest human minds, and could potentially surpass human intelligence in many areas.\n",
      "\n",
      "AI is being used in a wide range of applications, including:\n",
      "\n",
      "1. Virtual assistants, such as Siri and Alexa\n",
      "2. Self-driving cars\n",
      "3. Medical diagnosis and treatment\n",
      "4. Customer service chatbots\n",
      "5. Image and speech recognition\n",
      "6. Robotics and automation\n",
      "\n",
      "The benefits of AI include:\n",
      "\n",
      "1. Improved accuracy and efficiency\n",
      "2. Increased productivity\n",
      "3. Enhanced customer experiences\n",
      "4. New business opportunities\n",
      "5. Improved decision-making\n",
      "\n",
      "However, there are also potential challenges and risks associated with AI, such as:\n",
      "\n",
      "1. Job displacement\n",
      "2. Bias and fairness\n",
      "3. Cybersecurity threats\n",
      "4. Dependence on data quality\n",
      "5. Ethical considerations\n",
      "\n",
      "Overall, AI has the potential to revolutionize many aspects of our lives, but it's important to carefully consider its development and deployment to ensure that it benefits society as a whole."
     ]
    }
   ],
   "source": [
    "# streaming example\n",
    "for chunk in model.stream(messages):\n",
    "    print(chunk.content, end=\"\", flush=True)"
   ]
  },
  {
   "cell_type": "code",
   "execution_count": null,
   "id": "5adbc40c",
   "metadata": {},
   "outputs": [],
   "source": []
  }
 ],
 "metadata": {
  "kernelspec": {
   "display_name": "agentic-AI",
   "language": "python",
   "name": "python3"
  },
  "language_info": {
   "codemirror_mode": {
    "name": "ipython",
    "version": 3
   },
   "file_extension": ".py",
   "mimetype": "text/x-python",
   "name": "python",
   "nbconvert_exporter": "python",
   "pygments_lexer": "ipython3",
   "version": "3.13.5"
  }
 },
 "nbformat": 4,
 "nbformat_minor": 5
}
